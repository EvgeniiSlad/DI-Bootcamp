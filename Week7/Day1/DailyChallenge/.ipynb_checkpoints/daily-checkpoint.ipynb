{
 "cells": [
  {
   "cell_type": "code",
   "execution_count": 1,
   "id": "772dfb27",
   "metadata": {},
   "outputs": [],
   "source": [
    "import numpy as np"
   ]
  },
  {
   "cell_type": "code",
   "execution_count": 2,
   "id": "901770df",
   "metadata": {},
   "outputs": [
    {
     "data": {
      "text/plain": [
       "array([[98, 45, 59, 64, 10, 54, 34, 53, 13, 95, 88, 37, 16, 22, 15, 30,\n",
       "        91, 95, 46,  2],\n",
       "       [53,  7, 88, 93, 81, 50, 96, 93, 21, 42, 31, 96, 87, 51, 70, 33,\n",
       "        55, 50, 94, 92],\n",
       "       [85, 47, 24, 36, 38, 95, 67, 49, 98, 78, 40, 15, 48, 28, 95, 33,\n",
       "        30, 44, 29, 98],\n",
       "       [26, 82, 43, 83, 72, 42, 75, 23, 87, 55, 43, 72, 69,  6,  5, 38,\n",
       "        50, 23,  2, 83],\n",
       "       [27, 38, 59, 61,  8, 61, 64, 47, 66, 57, 53, 74,  5, 68, 31, 85,\n",
       "        63, 14, 54,  4],\n",
       "       [ 6, 98, 42, 39, 86, 77, 62, 20, 73, 21, 81, 28, 25, 13, 14, 79,\n",
       "        92, 61, 15, 47],\n",
       "       [73, 13, 13, 31,  4, 51, 80,  6, 40, 29, 60, 40, 43, 18, 92, 12,\n",
       "        92, 68, 68, 50],\n",
       "       [89, 66, 54, 28, 52, 21, 51, 12, 80, 65, 51, 64, 70, 53, 86, 27,\n",
       "        45, 69,  7, 44],\n",
       "       [87, 92, 84, 44,  5,  3, 61, 40, 84, 79, 99, 48,  3, 86, 61, 84,\n",
       "         8, 49, 49, 20],\n",
       "       [15, 32, 24, 22, 52, 31, 58, 64, 72, 20, 83, 89,  3, 71, 34, 19,\n",
       "        49, 52, 59, 15],\n",
       "       [53, 75, 84, 69, 36, 92, 36, 36,  2, 96, 53, 25, 94, 78, 65, 56,\n",
       "        63, 16, 27, 67],\n",
       "       [69, 75, 40, 79, 46, 68,  2, 32, 81, 75, 54, 61, 88, 73, 61, 65,\n",
       "        66, 81, 11, 10],\n",
       "       [20, 47, 75, 87,  8, 78, 82, 72, 44, 75, 52, 23, 89, 10, 82, 86,\n",
       "        87,  1, 78, 11],\n",
       "       [77, 91, 79, 86, 26, 40, 48, 37, 71, 30,  5, 80, 68, 52, 98, 31,\n",
       "        60, 49, 79, 65],\n",
       "       [73, 29, 84, 31, 79, 86, 67, 83, 35, 62,  1, 55,  6, 62, 27,  8,\n",
       "        70, 88, 30, 45],\n",
       "       [81, 86, 15,  6, 41, 55, 95, 35,  3, 38, 83, 97,  2, 29, 85, 46,\n",
       "        68, 32, 13, 45]])"
      ]
     },
     "execution_count": 2,
     "metadata": {},
     "output_type": "execute_result"
    }
   ],
   "source": [
    "M = np.random.randint(1,50)\n",
    "N = np.random.randint(1,40)\n",
    "a = np.random.randint(1, 100, size=(N, M))\n",
    "a"
   ]
  },
  {
   "cell_type": "code",
   "execution_count": 3,
   "id": "7f3a5cc2",
   "metadata": {},
   "outputs": [
    {
     "data": {
      "text/plain": [
       "array([85, 47, 24, 36, 38, 95, 67, 49, 98, 78, 40, 15, 48, 28, 95, 33, 30,\n",
       "       44, 29, 98])"
      ]
     },
     "execution_count": 3,
     "metadata": {},
     "output_type": "execute_result"
    }
   ],
   "source": [
    "a[2]"
   ]
  },
  {
   "cell_type": "code",
   "execution_count": 4,
   "id": "635a77e6",
   "metadata": {},
   "outputs": [
    {
     "data": {
      "text/plain": [
       "array([59, 88, 24, 43, 59, 42, 13, 54, 84, 24, 84, 40, 75, 79, 84, 15])"
      ]
     },
     "execution_count": 4,
     "metadata": {},
     "output_type": "execute_result"
    }
   ],
   "source": [
    "a[:,2]"
   ]
  },
  {
   "cell_type": "code",
   "execution_count": 5,
   "id": "6c1f3461",
   "metadata": {},
   "outputs": [
    {
     "data": {
      "text/plain": [
       "array([7, 7, 7, 7, 7, 7, 7, 7, 7, 7, 7, 7, 7, 7, 7, 7, 7, 7, 7, 7])"
      ]
     },
     "execution_count": 5,
     "metadata": {},
     "output_type": "execute_result"
    }
   ],
   "source": [
    "a[-1] = 7\n",
    "a[-1]"
   ]
  },
  {
   "cell_type": "code",
   "execution_count": 6,
   "id": "275d43de",
   "metadata": {},
   "outputs": [
    {
     "data": {
      "text/plain": [
       "array([ 2, 92, 98, 83,  4, 47, 50, 44, 20, 15, 67, 10, 11, 65, 45,  7])"
      ]
     },
     "execution_count": 6,
     "metadata": {},
     "output_type": "execute_result"
    }
   ],
   "source": [
    "a[:,-1] == np.sum(a[0] + a[1])\n",
    "a[:,-1]"
   ]
  },
  {
   "cell_type": "code",
   "execution_count": null,
   "id": "7e9e7a5d",
   "metadata": {},
   "outputs": [],
   "source": []
  }
 ],
 "metadata": {
  "kernelspec": {
   "display_name": "Python 3 (ipykernel)",
   "language": "python",
   "name": "python3"
  },
  "language_info": {
   "codemirror_mode": {
    "name": "ipython",
    "version": 3
   },
   "file_extension": ".py",
   "mimetype": "text/x-python",
   "name": "python",
   "nbconvert_exporter": "python",
   "pygments_lexer": "ipython3",
   "version": "3.10.6"
  }
 },
 "nbformat": 4,
 "nbformat_minor": 5
}
